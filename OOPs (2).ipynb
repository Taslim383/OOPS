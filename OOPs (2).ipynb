{
  "nbformat": 4,
  "nbformat_minor": 0,
  "metadata": {
    "colab": {
      "provenance": []
    },
    "kernelspec": {
      "name": "python3",
      "display_name": "Python 3"
    },
    "language_info": {
      "name": "python"
    }
  },
  "cells": [
    {
      "cell_type": "markdown",
      "source": [
        " 1.  What is Object-Oriented Programming (OOP)?\n",
        " ANS: Object-Oriented Programming (OOP) is a programming paradigm based on the concept of \"objects\", which are instances of classes. These objects contain both data (attributes) and behavior (methods). OOP helps organize and structure code in a way that models real-world entities more naturally and promotes code reusability, scalability, and maintainability.\n",
        " Core Principles of OOP:\n",
        "\n",
        "i. Encapsulation:- Bundling data and methods that operate on that data within one unit (class).Helps protect internal state and expose only what’s necessary.\n",
        "\n",
        "ii. Abstraction:- Hiding complex implementation details and showing only the essential features of the object.\n",
        "\n",
        "iii. Inheritance:- Creating new classes from existing ones, allowing code reuse and the creation of hierarchical relationships.\n",
        "\n",
        "iv. Polymorphism:- Allowing objects to be treated as instances of their parent class rather than their actual class, enabling one interface to be used for a variety of types.\n"
      ],
      "metadata": {
        "id": "PpFqY7IOzaqP"
      }
    },
    {
      "cell_type": "markdown",
      "source": [
        "2. What is a class in OOP?\n",
        "ANS: In Object-Oriented Programming (OOP), a class is a blueprint or template for creating objects. It defines the attributes (data) and methods (functions) that the created objects (instances) will have.\n",
        "Key Points About Classes:\n",
        "A class describes what an object will be, but it’s not the object itself.\n",
        "An object is an instance of a class.\n",
        "Classes enable you to model real-world entities."
      ],
      "metadata": {
        "id": "XWkgnpeU1R7N"
      }
    },
    {
      "cell_type": "markdown",
      "source": [
        "3. What is an object in OOP ?\n",
        "ANS : In Object-Oriented Programming (OOP), an object is a specific instance of a class. It represents a real-world entity that contains both data (attributes) and behavior (methods) defined by its class.\n",
        "Key Characteristics of an Object:\n",
        "State: The data or attributes the object holds (e.g., name, age).\n",
        "Behavior: The actions or methods the object can perform (e.g., speak, move).\n",
        "Identity: Each object is distinct, even if its data is the same as another object."
      ],
      "metadata": {
        "id": "4v3cegGoQy81"
      }
    },
    {
      "cell_type": "markdown",
      "source": [
        "4. What is the difference between abstraction and encapsulation ?\n",
        "ANS : Abstraction\n",
        "Definition:\n",
        "Abstraction is the concept of hiding complex implementation details and showing only the essential features of an object.\n",
        "Focus:What an object does, not how it does it.\n",
        "Simplifies the interface for the user or other parts of the system.\n",
        "Goal:\n",
        "Reduce complexity.\n",
        "Increase usability and clarity.\n",
        "\n",
        "Encapsulation\n",
        "Definition:\n",
        "Encapsulation is the practice of bundling data and methods that operate on that data within a single unit (class) and restricting direct access to some of the object's components.\n",
        "Focus:\n",
        "Protecting the internal state of an object.\n",
        "Controlling how external code interacts with that object.\n",
        "Goal:\n",
        "Improve security and maintainability.\n",
        "Prevent unintended interference or misuse of data."
      ],
      "metadata": {
        "id": "nrFIv_H8RC_P"
      }
    },
    {
      "cell_type": "markdown",
      "source": [
        "5. What are dunder methods in Python ?\n",
        "ANS : Dunder methods in Python (short for \"double underscore\" methods) are special methods that have names starting and ending with double underscores (e.g., __init__, __str__, __len__). They're also known as magic methods."
      ],
      "metadata": {
        "id": "jLabvbYFRtJE"
      }
    },
    {
      "cell_type": "markdown",
      "source": [
        "6. Explain the concept of inheritance in OOP .\n",
        "ANS: Inheritance is a fundamental concept in Object-Oriented Programming (OOP) that allows one class (called a child or subclass) to inherit properties and behaviors (attributes and methods) from another class (called a parent or superclass).\n",
        "Types of Inheritance:\n",
        "Single Inheritance – one parent, one child.\n",
        "Multiple Inheritance – child inherits from more than one parent.\n",
        "Multilevel Inheritance – a child becomes a parent of another child.\n",
        "Hierarchical Inheritance – multiple children inherit from one parent.\n"
      ],
      "metadata": {
        "id": "H6OnLdntR8ID"
      }
    },
    {
      "cell_type": "markdown",
      "source": [
        "7. What is polymorphism in OOP ?\n",
        "ANS : Polymorphism in Object-Oriented Programming (OOP) is the ability of different classes to respond to the same method name in different ways. The word itself means \"many forms\".\n",
        "Key Types of Polymorphism:\n",
        "\n",
        "I.Compile-Time Polymorphism (Static)\n",
        "Achieved through method overloading (same method name with different parameters).\n",
        "Common in languages like Java and C++, but not directly supported in Python.\n",
        "\n",
        "II.Run-Time Polymorphism (Dynamic)\n",
        "Achieved through method overriding – a child class provides a specific implementation of a method defined in its parent class.\n",
        "Widely used in Python, Java, C++"
      ],
      "metadata": {
        "id": "DD91ncxtSihm"
      }
    },
    {
      "cell_type": "markdown",
      "source": [
        "8.  How is encapsulation achieved in Python ?\n",
        "ANS : Encapsulation is achieved by:\n",
        "\n",
        "I.Using access modifiers:\n",
        "public (no underscore): accessible from anywhere.\n",
        "_protected (single underscore): intended for internal use (by convention).\n",
        "__private (double underscore): name mangling hides it from outside access.\n",
        "\n",
        "II. Using getter and setter methods:\n",
        "Control access and modification of private attributes.\n",
        "\n",
        "III. Using @property decorators:\n",
        "Pythonic way to create controlled access to private data."
      ],
      "metadata": {
        "id": "e9NdrsIIS9IV"
      }
    },
    {
      "cell_type": "markdown",
      "source": [
        "9. What is a constructor in Python ?\n",
        "ANS : A constructor in Python is a special method used to initialize a newly created object of a class. It is automatically called when an object is created.\n",
        "\n",
        "In Python, the constructor method is: __init__()"
      ],
      "metadata": {
        "id": "Mvr2kIvOTn35"
      }
    },
    {
      "cell_type": "markdown",
      "source": [
        "10. What are class and static methods in Python ?\n",
        "ANS : Class Method :\n",
        "Defined with the @classmethod decorator.\n",
        "Takes cls as the first parameter (not self).\n",
        "Can access or modify class-level data.\n",
        "Called on the class itself or an instance.\n",
        "\n",
        "Static Method :\n",
        "Defined with the @staticmethod decorator.\n",
        "Does not take self or cls as a parameter.\n",
        "Acts like a regular function but lives in the class namespace.\n",
        "Cannot access instance or class data."
      ],
      "metadata": {
        "id": "F8spvUxAT3AU"
      }
    },
    {
      "cell_type": "markdown",
      "source": [
        "11. What is method overloading in Python ?\n",
        "ANS : In Python, method overloading (having multiple methods with the same name but different parameters) is not directly supported like in statically-typed languages such as Java or C++. However, Python can achieve a similar effect through the use of default arguments or variable-length argument lists."
      ],
      "metadata": {
        "id": "XsAZJaS1UPPp"
      }
    },
    {
      "cell_type": "markdown",
      "source": [
        "12.  What is method overriding in OOP?\n",
        "ANS : Method overriding in Object-Oriented Programming (OOP) is the ability of a child class to provide a specific implementation of a method that is already defined in its parent class.\n",
        "\n",
        "Method Overriding: Redefining a parent class method in the child class.\n"
      ],
      "metadata": {
        "id": "VlzYWLdgUb8c"
      }
    },
    {
      "cell_type": "markdown",
      "source": [
        "13. What is a property decorator in Python ?\n",
        "ANS : The @property decorator in Python is used to turn a method into a \"getter\" for a read-only attribute — meaning you can access it like an attribute, but it's actually calling a method behind the scenes."
      ],
      "metadata": {
        "id": "b3X7B6OaUxVo"
      }
    },
    {
      "cell_type": "markdown",
      "source": [
        "14.Why is polymorphism important in OOP ?\n",
        " ANS :Polymorphism is crucial in Object-Oriented Programming because it enables flexibility, scalability, and cleaner code by allowing objects of different classes to be treated through a common interface.\n",
        " Key Reasons Why Polymorphism Matters:\n",
        "\n",
        "I.Code Reusability : You can write generic code that works with multiple object types.\n",
        "Example: A function that calls speak() on any Animal subclass without caring if it's a Dog or Cat.\n",
        "\n",
        "II. Extensibility: New classes can be added without changing existing code.\n",
        "You can introduce new behavior by simply creating a new subclass.\n",
        "\n",
        "III. Simplifies Code : Reduces if/else or switch statements that check object types.\n",
        "Makes code easier to read and maintain.\n",
        "\n",
        "IV. Supports Dynamic Behavior :The method that gets called is determined at runtime based on the object's actual class.\n",
        "\n"
      ],
      "metadata": {
        "id": "lfTDT8mZVWZ7"
      }
    },
    {
      "cell_type": "markdown",
      "source": [
        "15. What is an abstract class in Python ?\n",
        "ANS : An abstract class in Python is a class that cannot be instantiated directly and is meant to be subclassed. It defines a common interface for its subclasses by including abstract methods, which are methods that are declared but contain no implementation in the abstract class. Subclasses must implement these abstract methods.\n",
        "\n",
        "Key Points:\n",
        "Abstract classes are defined using the abc (Abstract Base Class) module.\n",
        "Use the @abstractmethod decorator to define abstract methods.\n",
        "Trying to instantiate an abstract class directly will raise a TypeError."
      ],
      "metadata": {
        "id": "ORdth6LMWM4L"
      }
    },
    {
      "cell_type": "markdown",
      "source": [
        "16. What are the advantages of OOP ?\n",
        "ANS :\n",
        " 1. Modularity : Code is organized into classes and objects, making it more manageable.\n",
        "Each class is a self-contained module with its own data and methods.\n",
        "\n",
        " 2. Reusability : Once a class is written, it can be reused in multiple programs.\n",
        "Through inheritance, new classes can be created based on existing ones, reducing duplication.\n",
        "\n",
        " 3. Scalability and Maintainability : OOP makes large codebases easier to understand, maintain, and scale.\n",
        "Changes in one part of the code (e.g., a specific class) often don’t affect other parts.\n",
        "\n",
        " 4. Encapsulation : Combines data and methods that operate on that data in a single unit (the class).\n",
        "Helps protect the internal state of objects and control how it's accessed or modified.\n",
        "\n",
        " 5. Abstraction : Lets you hide complex implementation details and show only the relevant features of an object.\n",
        "Makes the system easier to understand and use.\n",
        "\n",
        " 6. Polymorphism : Allows objects of different classes to be treated through the same interface.\n",
        "Enables writing flexible and extensible code (e.g., functions that work on different types of objects).\n",
        "\n",
        " 7. Real-World Modeling : OOP aligns closely with how we perceive the real world (objects with behaviors and properties).\n"
      ],
      "metadata": {
        "id": "ihLcmNOVWq8Q"
      }
    },
    {
      "cell_type": "markdown",
      "source": [
        "17. What is the difference between a class variable and an instance variable ?\n",
        "ANS : Class Variable\n",
        "Shared by all instances of the class.\n",
        "Defined inside the class, but outside any instance methods.\n",
        "Changing the class variable affects all instances that haven’t overridden it.\n",
        " Instance Variable\n",
        "Unique to each instance.\n",
        "Defined using self inside the class's methods, usually in __init__.\n",
        "Changing it affects only that specific instance."
      ],
      "metadata": {
        "id": "1gLvJClVXccz"
      }
    },
    {
      "cell_type": "markdown",
      "source": [
        "18. What is multiple inheritance in Python ?\n",
        "ANS : Multiple inheritance in Python is a feature that allows a class to inherit from more than one parent class. This lets a subclass combine functionality from multiple sources, but it can also introduce complexity, especially when there are method name conflicts."
      ],
      "metadata": {
        "id": "XpaC0ZzLX0z_"
      }
    },
    {
      "cell_type": "markdown",
      "source": [
        "19. Explain the purpose of ‘’__str__’ and ‘__repr__’ ‘ methods in Python /\n",
        "ANS : The __str__ and __repr__ methods in Python are special (dunder) methods that define how an object is represented as a string. They're especially useful for debugging and user-friendly display of objects.\n",
        "\n",
        "I. __str__(self): User-Friendly String Representation\n",
        "Called by the built-in str() function or when using print().\n",
        "Intended to return a readable, nicely formatted string for end users.\n",
        "\n",
        "II. _repr__(self): Developer-Friendly String Representation\n",
        "Called by the built-in repr() function or when inspecting an object in a debugger or REPL.\n",
        "Should return a string that could be used to recreate the object, if possible.\n",
        "Fallback: If __str__ is not defined, print() will use __repr__.\n",
        "\n"
      ],
      "metadata": {
        "id": "mvBMdR_jYBdx"
      }
    },
    {
      "cell_type": "markdown",
      "source": [
        "20. What is the significance of the ‘super()’ function in Python ?\n",
        "ANS : The super() function in Python is used to call methods from a parent or superclass. It’s especially useful in inheritance hierarchies, where a subclass wants to extend or customize the behavior of its parent class without completely overriding it.\n",
        "\n",
        " Key Uses of super():\n",
        "Access the parent class's methods (commonly __init__) without hardcoding the class name.\n",
        "Support multiple inheritance more cleanly by following Python’s method resolution order (MRO).\n",
        "Promote maintainability by decoupling subclass behavior from specific parent class names.\n",
        "\n"
      ],
      "metadata": {
        "id": "zySH6if-YhMi"
      }
    },
    {
      "cell_type": "markdown",
      "source": [
        "21. What is the significance of the __del__ method in Python ?\n",
        "ANS : The __del__ method in Python is a special method called a destructor. It is automatically invoked when an object is about to be destroyed, i.e., when its reference count drops to zero and it is being garbage collected.\n",
        "\n",
        " Purpose of __del__:\n",
        "Used to clean up resources—like closing files, releasing network connections, or deleting temporary files—when an object is deleted.\n",
        "Acts as a \"finalizer\" for your object."
      ],
      "metadata": {
        "id": "k7cDgv1sYzas"
      }
    },
    {
      "cell_type": "markdown",
      "source": [
        "22. What is the difference between @staticmethod and @classmethod in Python ?\n",
        "ANS :\n",
        "@staticmethod : Does not take self or cls as the first argument.\n",
        "Behaves like a regular function, just inside the class’s namespace.\n",
        "Can be called on the class or instance, but it doesn't know anything about the class or instance.\n",
        "Use @staticmethod when the method doesn't need access to the class or instance.\n",
        "\n",
        "@classmethod: Takes cls (the class itself) as the first argument.\n",
        "Has access to class-level data and can modify class state.\n",
        "Useful for factory methods or when behavior should vary by subclass.\n",
        "\n",
        "Use @classmethod when you need to instantiate the class or access/modify class-level variables."
      ],
      "metadata": {
        "id": "AsseLWT9ZCBj"
      }
    },
    {
      "cell_type": "markdown",
      "source": [
        "23. How does polymorphism work in Python with inheritance ?\n",
        "ANS : Polymorphism in Python allows objects of different classes to be treated as objects of a common superclass, enabling one interface to be used for different underlying data types. In the context of inheritance, polymorphism happens when a subclass provides a specific implementation of a method that is already defined in its superclass. This allows you to use the same method name, but the behavior changes depending on the subclass.\n",
        "\n",
        "Here’s how polymorphism works in Python with inheritance:\n",
        "\n",
        "Method Overriding: A subclass can override a method from its superclass. The subclass can implement the method in its own way, while still maintaining the same method signature as in the superclass.\n",
        "\n",
        "Dynamic Dispatch: When a method is called on an object, Python automatically chooses the appropriate method based on the object’s type (which can be a subclass of the superclass)."
      ],
      "metadata": {
        "id": "jZ34FFQIZtf-"
      }
    },
    {
      "cell_type": "markdown",
      "source": [
        "24. What is method chaining in Python OOP ?\n",
        "ANS : Method chaining in Python (or in object-oriented programming in general) is a technique where multiple methods are called on the same object in a single line of code. This is possible when each method in the chain returns the object itself (self), allowing the next method to be called directly on that same object."
      ],
      "metadata": {
        "id": "_DhUOS4oaI36"
      }
    },
    {
      "cell_type": "markdown",
      "source": [
        "25. What is the purpose of the __call__ method in Python ?\n",
        "ANS : The __call__ method in Python allows an object to be called like a function. By defining this method in a class, instances of the class can be invoked using parentheses, and you can define custom behavior for this \"call.\" It is useful for creating function-like objects and implementing patterns like decorators or callable objects with internal state."
      ],
      "metadata": {
        "id": "Ie6iuquhaXTC"
      }
    },
    {
      "cell_type": "code",
      "source": [
        "#  Create a parent class Animal with a method speak() that prints a generic message. Create a child class Dog that overrides the speak() method to print \"Bark!\".\n",
        "# Parent class\n",
        "class Animal:\n",
        "    def speak(self):\n",
        "        print(\"Animal speaks\")\n",
        "\n",
        "# Child class\n",
        "class Dog(Animal):\n",
        "    def speak(self):\n",
        "        print(\"Bark!\")\n",
        "\n",
        "# Create instances\n",
        "animal = Animal()\n",
        "dog = Dog()\n",
        "\n",
        "# Call the speak method\n",
        "animal.speak()\n",
        "dog.speak()\n",
        "\n",
        "\n",
        "\n",
        "\n",
        "\n"
      ],
      "metadata": {
        "colab": {
          "base_uri": "https://localhost:8080/"
        },
        "id": "APwVwMPDaqvM",
        "outputId": "9de5c5e0-aaff-44a6-bc4d-92732bf58905"
      },
      "execution_count": 5,
      "outputs": [
        {
          "output_type": "stream",
          "name": "stdout",
          "text": [
            "Animal speaks\n",
            "Bark!\n"
          ]
        }
      ]
    },
    {
      "cell_type": "code",
      "source": [
        "# Write a program to create an abstract class Shape with a method area(). Derive\n",
        "# classes Circle and Rectangle from it and implement the area() method in both.\n",
        "\n",
        "\n",
        "from abc import ABC, abstractmethod\n",
        "import math\n",
        "\n",
        "# Abstract class Shape\n",
        "class Shape(ABC):\n",
        "    @abstractmethod\n",
        "    def area(self):\n",
        "        pass\n",
        "\n",
        "# Derived class Circle\n",
        "class Circle(Shape):\n",
        "    def __init__(self, radius):\n",
        "        self.radius = radius\n",
        "\n",
        "    def area(self):\n",
        "        return math.pi * (self.radius ** 2)\n",
        "\n",
        "# Derived class Rectangle\n",
        "class Rectangle(Shape):\n",
        "    def __init__(self, length, width):\n",
        "        self.length = length\n",
        "        self.width = width\n",
        "\n",
        "    def area(self):\n",
        "        return self.length * self.width\n",
        "\n",
        "# Create instances\n",
        "circle = Circle(5)\n",
        "rectangle = Rectangle(4, 6)\n",
        "\n",
        "# Call the area() method\n",
        "print(f\"Circle area: {circle.area()}\")\n",
        "print(f\"Rectangle area: {rectangle.area()}\")\n"
      ],
      "metadata": {
        "colab": {
          "base_uri": "https://localhost:8080/"
        },
        "id": "W21zM-8nepgh",
        "outputId": "6c7ca3e9-b1ff-43c7-dad0-45b00003e0f2"
      },
      "execution_count": 6,
      "outputs": [
        {
          "output_type": "stream",
          "name": "stdout",
          "text": [
            "Circle area: 78.53981633974483\n",
            "Rectangle area: 24\n"
          ]
        }
      ]
    },
    {
      "cell_type": "code",
      "source": [
        "#  Implement a multi-level inheritance scenario where a class Vehicle has an attribute type. Derive a class Car\n",
        "#and further derive a class ElectricCar that adds a battery attribute.\n",
        "\n",
        "# Base class Vehicle\n",
        "class Vehicle:\n",
        "    def __init__(self, vehicle_type):\n",
        "        self.vehicle_type = vehicle_type\n",
        "\n",
        "    def display_type(self):\n",
        "        print(f\"Vehicle Type: {self.vehicle_type}\")\n",
        "\n",
        "# Derived class Car\n",
        "class Car(Vehicle):\n",
        "    def __init__(self, vehicle_type, brand):\n",
        "        super().__init__(vehicle_type)  # Call the constructor of the parent class\n",
        "        self.brand = brand\n",
        "\n",
        "    def display_brand(self):\n",
        "        print(f\"Car Brand: {self.brand}\")\n",
        "\n",
        "# Further derived class ElectricCar\n",
        "class ElectricCar(Car):\n",
        "    def __init__(self, vehicle_type, brand, battery_capacity):\n",
        "        super().__init__(vehicle_type, brand)  # Call the constructor of the Car class\n",
        "        self.battery_capacity = battery_capacity\n",
        "\n",
        "    def display_battery(self):\n",
        "        print(f\"Battery Capacity: {self.battery_capacity} kWh\")\n",
        "\n",
        "# Create an instance of ElectricCar\n",
        "electric_car = ElectricCar(\"Electric\", \"Tesla\", 75)\n",
        "\n",
        "# Call methods from different levels of the inheritance hierarchy\n",
        "electric_car.display_type()         # From Vehicle class\n",
        "electric_car.display_brand()        # From Car class\n",
        "electric_car.display_battery()      # From ElectricCar class\n"
      ],
      "metadata": {
        "colab": {
          "base_uri": "https://localhost:8080/"
        },
        "id": "2yKZzMPDfXq3",
        "outputId": "08aa84f8-a479-4c2c-d966-1893f4b8ece3"
      },
      "execution_count": 7,
      "outputs": [
        {
          "output_type": "stream",
          "name": "stdout",
          "text": [
            "Vehicle Type: Electric\n",
            "Car Brand: Tesla\n",
            "Battery Capacity: 75 kWh\n"
          ]
        }
      ]
    },
    {
      "cell_type": "code",
      "source": [
        "#Demonstrate polymorphism by creating a base class Bird with a method fly(). Create two derived classes\n",
        "#Sparrow and Penguin that override the fly() method.\n",
        "\n",
        "# Base class Bird\n",
        "class Bird:\n",
        "    def fly(self):\n",
        "        print(\"This bird can fly.\")\n",
        "\n",
        "# Derived class Sparrow\n",
        "class Sparrow(Bird):\n",
        "    def fly(self):\n",
        "        print(\"Sparrow flies high in the sky!\")\n",
        "\n",
        "# Derived class Penguin\n",
        "class Penguin(Bird):\n",
        "    def fly(self):\n",
        "        print(\"Penguins cannot fly, but they can swim!\")\n",
        "\n",
        "# Create instances\n",
        "bird = Bird()\n",
        "sparrow = Sparrow()\n",
        "penguin = Penguin()\n",
        "\n",
        "# Demonstrate polymorphism by calling fly() on each object\n",
        "bird.fly()\n",
        "sparrow.fly()\n",
        "penguin.fly()\n",
        "\n"
      ],
      "metadata": {
        "colab": {
          "base_uri": "https://localhost:8080/"
        },
        "id": "_FHaOsOyfs7n",
        "outputId": "2a978de5-260a-407c-802d-034a49c2eed3"
      },
      "execution_count": 8,
      "outputs": [
        {
          "output_type": "stream",
          "name": "stdout",
          "text": [
            "This bird can fly.\n",
            "Sparrow flies high in the sky!\n",
            "Penguins cannot fly, but they can swim!\n"
          ]
        }
      ]
    },
    {
      "cell_type": "code",
      "source": [
        "#Write a program to demonstrate encapsulation by creating a class BankAccount with private attributes\n",
        "#balance and methods to deposit, withdraw, and check balance.\n",
        "\n",
        "class BankAccount:\n",
        "    def __init__(self, initial_balance=0):\n",
        "        # Private attribute\n",
        "        self.__balance = initial_balance\n",
        "\n",
        "    # Method to deposit money\n",
        "    def deposit(self, amount):\n",
        "        if amount > 0:\n",
        "            self.__balance += amount\n",
        "            print(f\"Deposited {amount}. New balance: {self.__balance}\")\n",
        "        else:\n",
        "            print(\"Deposit amount must be positive.\")\n",
        "\n",
        "    # Method to withdraw money\n",
        "    def withdraw(self, amount):\n",
        "        if 0 < amount <= self.__balance:\n",
        "            self.__balance -= amount\n",
        "            print(f\"Withdrew {amount}. New balance: {self.__balance}\")\n",
        "        else:\n",
        "            print(\"Invalid withdrawal amount or insufficient funds.\")\n",
        "\n",
        "    # Method to check balance\n",
        "    def check_balance(self):\n",
        "        return f\"Your balance is: {self.__balance}\"\n",
        "\n",
        "# Create an instance of BankAccount\n",
        "account = BankAccount(1000)\n",
        "\n",
        "# Deposit money\n",
        "account.deposit(500)\n",
        "\n",
        "# Withdraw money\n",
        "account.withdraw(300)\n",
        "\n",
        "# Check balance\n",
        "print(account.check_balance())\n",
        "\n",
        "\n"
      ],
      "metadata": {
        "colab": {
          "base_uri": "https://localhost:8080/"
        },
        "id": "2bUjk24qgAEW",
        "outputId": "22ea0292-c437-4709-8918-38350e22a8fd"
      },
      "execution_count": 9,
      "outputs": [
        {
          "output_type": "stream",
          "name": "stdout",
          "text": [
            "Deposited 500. New balance: 1500\n",
            "Withdrew 300. New balance: 1200\n",
            "Your balance is: 1200\n"
          ]
        }
      ]
    },
    {
      "cell_type": "code",
      "source": [
        "#  Demonstrate runtime polymorphism using a method play() in a base class Instrument. Derive classes Guitar\n",
        "# and Piano that implement their own version of play().\n",
        "# Base class Instrument\n",
        "class Instrument:\n",
        "    def play(self):\n",
        "        print(\"Playing an instrument.\")\n",
        "\n",
        "# Derived class Guitar\n",
        "class Guitar(Instrument):\n",
        "    def play(self):\n",
        "        print(\"Strumming the guitar.\")\n",
        "\n",
        "# Derived class Piano\n",
        "class Piano(Instrument):\n",
        "    def play(self):\n",
        "        print(\"Playing the piano.\")\n",
        "\n",
        "# Function to demonstrate polymorphism\n",
        "def performance(instrument: Instrument):\n",
        "    instrument.play()\n",
        "\n",
        "# Create instances\n",
        "guitar = Guitar()\n",
        "piano = Piano()\n",
        "\n",
        "# Demonstrate runtime polymorphism\n",
        "performance(guitar)\n",
        "performance(piano)\n"
      ],
      "metadata": {
        "colab": {
          "base_uri": "https://localhost:8080/"
        },
        "id": "xvrZ89bwgZaG",
        "outputId": "09c02ab2-9162-4efd-a14e-1174df304992"
      },
      "execution_count": 10,
      "outputs": [
        {
          "output_type": "stream",
          "name": "stdout",
          "text": [
            "Strumming the guitar.\n",
            "Playing the piano.\n"
          ]
        }
      ]
    },
    {
      "cell_type": "code",
      "source": [
        "# Create a class MathOperations with a class method add_numbers() to add two numbers and a static\n",
        "#method subtract_numbers() to subtract two numbers.\n",
        "class MathOperations:\n",
        "    # Class method to add two numbers\n",
        "    @classmethod\n",
        "    def add_numbers(cls, num1, num2):\n",
        "        return num1 + num2\n",
        "\n",
        "    # Static method to subtract two numbers\n",
        "    @staticmethod\n",
        "    def subtract_numbers(num1, num2):\n",
        "        return num1 - num2\n",
        "\n",
        "# Demonstrating class method and static method\n",
        "sum_result = MathOperations.add_numbers(10, 5)\n",
        "print(f\"Sum: {sum_result}\")  # Output: Sum: 15\n",
        "\n",
        "difference_result = MathOperations.subtract_numbers(10, 5)\n",
        "print(f\"Difference: {difference_result}\")\n"
      ],
      "metadata": {
        "colab": {
          "base_uri": "https://localhost:8080/"
        },
        "id": "MPUZKvyQgl8M",
        "outputId": "985b25a5-e08d-4f7b-a180-f595e2cd9336"
      },
      "execution_count": 11,
      "outputs": [
        {
          "output_type": "stream",
          "name": "stdout",
          "text": [
            "Sum: 15\n",
            "Difference: 5\n"
          ]
        }
      ]
    },
    {
      "cell_type": "code",
      "source": [
        "# Implement a class Person with a class method to count the total number of persons created.\n",
        "\n",
        "\n",
        "class Person:\n",
        "    # Class variable to store the count of persons created\n",
        "    total_persons = 0\n",
        "\n",
        "    def __init__(self, name, age):\n",
        "        self.name = name\n",
        "        self.age = age\n",
        "        # Increment the count every time a new person object is created\n",
        "        Person.total_persons += 1\n",
        "\n",
        "    # Class method to get the total number of persons created\n",
        "    @classmethod\n",
        "    def get_total_persons(cls):\n",
        "        return cls.total_persons\n",
        "\n",
        "# Create instances of Person\n",
        "person1 = Person(\"Alice\", 30)\n",
        "person2 = Person(\"Bob\", 25)\n",
        "person3 = Person(\"Charlie\", 35)\n",
        "\n",
        "# Call the class method to get the total number of persons created\n",
        "print(f\"Total persons created: {Person.get_total_persons()}\")"
      ],
      "metadata": {
        "colab": {
          "base_uri": "https://localhost:8080/"
        },
        "id": "QA_xAlN5g0hh",
        "outputId": "f6853c98-8547-44ab-afc1-3079b17115dd"
      },
      "execution_count": 12,
      "outputs": [
        {
          "output_type": "stream",
          "name": "stdout",
          "text": [
            "Total persons created: 3\n"
          ]
        }
      ]
    },
    {
      "cell_type": "code",
      "source": [
        "#Write a class Fraction with attributes numerator and denominator. Override the str method to display the\n",
        "#fraction as \"numerator/denominator\".\n",
        "class Fraction:\n",
        "    def __init__(self, numerator, denominator):\n",
        "        self.numerator = numerator\n",
        "        self.denominator = denominator\n",
        "\n",
        "    # Override the __str__ method to display the fraction as \"numerator/denominator\"\n",
        "    def __str__(self):\n",
        "        return f\"{self.numerator}/{self.denominator}\"\n",
        "\n",
        "# Create instances of the Fraction class\n",
        "fraction1 = Fraction(3, 4)\n",
        "fraction2 = Fraction(5, 7)\n",
        "\n",
        "# Print the fractions using the overridden __str__ method\n",
        "print(fraction1)\n",
        "print(fraction2)\n",
        "\n"
      ],
      "metadata": {
        "colab": {
          "base_uri": "https://localhost:8080/"
        },
        "id": "jRFhyLVHhG2x",
        "outputId": "69531c19-d623-4175-e5d0-78e1976289b5"
      },
      "execution_count": 13,
      "outputs": [
        {
          "output_type": "stream",
          "name": "stdout",
          "text": [
            "3/4\n",
            "5/7\n"
          ]
        }
      ]
    },
    {
      "cell_type": "code",
      "source": [
        "# Demonstrate operator overloading by creating a class Vector and overriding the add method to add two\n",
        "#vectors.\n",
        "class Vector:\n",
        "    def __init__(self, x, y):\n",
        "        self.x = x\n",
        "        self.y = y\n",
        "\n",
        "    # Overload the '+' operator to add two vectors\n",
        "    def __add__(self, other):\n",
        "        # The __add__ method will return a new Vector object\n",
        "        return Vector(self.x + other.x, self.y + other.y)\n",
        "\n",
        "    # Method to represent the vector as a string for easy display\n",
        "    def __str__(self):\n",
        "        return f\"({self.x}, {self.y})\"\n",
        "\n",
        "# Create instances of Vector\n",
        "vector1 = Vector(2, 3)\n",
        "vector2 = Vector(4, 5)\n",
        "\n",
        "# Add two vectors using the overloaded '+' operator\n",
        "result_vector = vector1 + vector2\n",
        "\n",
        "# Print the result of the vector addition\n",
        "print(f\"Result of vector addition: {result_vector}\")"
      ],
      "metadata": {
        "colab": {
          "base_uri": "https://localhost:8080/"
        },
        "id": "dlI1h9C9hdrv",
        "outputId": "69877786-0ec7-4a41-fefc-235ffe68878c"
      },
      "execution_count": 14,
      "outputs": [
        {
          "output_type": "stream",
          "name": "stdout",
          "text": [
            "Result of vector addition: (6, 8)\n"
          ]
        }
      ]
    },
    {
      "cell_type": "code",
      "source": [
        "#Create a class Person with attributes name and age. Add a method greet() that prints \"Hello, my name is\n",
        "#{name} and I am {age} years old.\"\n",
        "class Person:\n",
        "    def __init__(self, name, age):\n",
        "        # Initialize the name and age attributes\n",
        "        self.name = name\n",
        "        self.age = age\n",
        "\n",
        "    # Method to greet the person\n",
        "    def greet(self):\n",
        "        print(f\"Hello, my name is {self.name} and I am {self.age} years old.\")\n",
        "\n",
        "# Create an instance of Person\n",
        "person1 = Person(\"Alice\", 30)\n",
        "\n",
        "# Call the greet method\n",
        "person1.greet()"
      ],
      "metadata": {
        "colab": {
          "base_uri": "https://localhost:8080/"
        },
        "id": "i4daxmJch1Vz",
        "outputId": "8d800fa3-e631-4f4b-c5c9-722ad4065cf2"
      },
      "execution_count": 15,
      "outputs": [
        {
          "output_type": "stream",
          "name": "stdout",
          "text": [
            "Hello, my name is Alice and I am 30 years old.\n"
          ]
        }
      ]
    },
    {
      "cell_type": "code",
      "source": [
        "#Implement a class Student with attributes name and grades. Create a method average_grade() to compute\n",
        "#the average of the grades.\n",
        "class Student:\n",
        "    def __init__(self, name, grades):\n",
        "        # Initialize the name and grades attributes\n",
        "        self.name = name\n",
        "        self.grades = grades\n",
        "\n",
        "    # Method to compute the average grade\n",
        "    def average_grade(self):\n",
        "        if len(self.grades) == 0:\n",
        "            return 0  # To avoid division by zero if no grades are provided\n",
        "        return sum(self.grades) / len(self.grades)\n",
        "\n",
        "# Create an instance of Student\n",
        "student1 = Student(\"Alice\", [90, 80, 85, 92])\n",
        "\n",
        "# Call the average_grade method\n",
        "average = student1.average_grade()\n",
        "print(f\"{student1.name}'s average grade is: {average:.2f}\")"
      ],
      "metadata": {
        "colab": {
          "base_uri": "https://localhost:8080/"
        },
        "id": "KXKmlEzSiC2x",
        "outputId": "0c4f4366-d63a-451a-b87d-da3fe9d389f5"
      },
      "execution_count": 16,
      "outputs": [
        {
          "output_type": "stream",
          "name": "stdout",
          "text": [
            "Alice's average grade is: 86.75\n"
          ]
        }
      ]
    },
    {
      "cell_type": "code",
      "source": [
        "# Create a class Rectangle with methods set_dimensions() to set the dimensions and area() to calculate the\n",
        "#area.\n",
        "class Rectangle:\n",
        "    def __init__(self):\n",
        "        # Initialize the dimensions as None\n",
        "        self.length = None\n",
        "        self.width = None\n",
        "\n",
        "    # Method to set the dimensions of the rectangle\n",
        "    def set_dimensions(self, length, width):\n",
        "        self.length = length\n",
        "        self.width = width\n",
        "\n",
        "    # Method to calculate the area of the rectangle\n",
        "    def area(self):\n",
        "        if self.length is None or self.width is None:\n",
        "            return \"Dimensions not set.\"\n",
        "        return self.length * self.width\n",
        "\n",
        "# Create an instance of Rectangle\n",
        "rectangle1 = Rectangle()\n",
        "\n",
        "# Set dimensions for the rectangle\n",
        "rectangle1.set_dimensions(5, 3)\n",
        "\n",
        "# Calculate and print the area\n",
        "print(f\"Area of the rectangle: {rectangle1.area()}\")\n"
      ],
      "metadata": {
        "colab": {
          "base_uri": "https://localhost:8080/"
        },
        "id": "g5U5oMPfiPN1",
        "outputId": "6dd1b7eb-0f63-4211-d269-abf730465fb8"
      },
      "execution_count": 17,
      "outputs": [
        {
          "output_type": "stream",
          "name": "stdout",
          "text": [
            "Area of the rectangle: 15\n"
          ]
        }
      ]
    },
    {
      "cell_type": "code",
      "source": [
        "#Create a class Employee with a method calculate_salary() that computes the salary based on hours worked\n",
        "#and hourly rate. Create a derived class Manager that adds a bonus to the salary.\n",
        "# Base class\n",
        "class Employee:\n",
        "    def __init__(self, name, hours_worked, hourly_rate):\n",
        "        self.name = name\n",
        "        self.hours_worked = hours_worked\n",
        "        self.hourly_rate = hourly_rate\n",
        "\n",
        "    # Method to calculate salary\n",
        "    def calculate_salary(self):\n",
        "        return self.hours_worked * self.hourly_rate\n",
        "\n",
        "# Derived class\n",
        "class Manager(Employee):\n",
        "    def __init__(self, name, hours_worked, hourly_rate, bonus):\n",
        "        # Call the constructor of the base class\n",
        "        super().__init__(name, hours_worked, hourly_rate)\n",
        "        self.bonus = bonus\n",
        "\n",
        "    # Override the calculate_salary method to include bonus\n",
        "    def calculate_salary(self):\n",
        "        base_salary = super().calculate_salary()\n",
        "        return base_salary + self.bonus\n",
        "\n",
        "# Example usage\n",
        "employee1 = Employee(\"John\", 40, 20)\n",
        "print(f\"{employee1.name}'s salary: ${employee1.calculate_salary()}\")\n",
        "\n",
        "manager1 = Manager(\"Alice\", 40, 30,500)\n",
        "print(f\"{manager1.name}'s salary with bonus: ${manager1.calculate_salary()}\")\n"
      ],
      "metadata": {
        "colab": {
          "base_uri": "https://localhost:8080/"
        },
        "id": "u7sY2Fz-iaFU",
        "outputId": "317e1689-c48a-4468-bdaf-d33559082222"
      },
      "execution_count": 20,
      "outputs": [
        {
          "output_type": "stream",
          "name": "stdout",
          "text": [
            "John's salary: $800\n",
            "Alice's salary with bonus: $1700\n"
          ]
        }
      ]
    },
    {
      "cell_type": "code",
      "source": [
        "#Create a class Product with attributes name, price, and quantity. Implement a method total_price() that\n",
        "#calculates the total price of the product.\n",
        "class Product:\n",
        "    def __init__(self, name, price, quantity):\n",
        "        self.name = name\n",
        "        self.price = price\n",
        "        self.quantity = quantity\n",
        "\n",
        "    # Method to calculate total price\n",
        "    def total_price(self):\n",
        "        return self.price * self.quantity\n",
        "\n",
        "# Example usage\n",
        "product1 = Product(\"Laptop\", 800, 2)\n",
        "print(f\"Total price for {product1.name}: ${product1.total_price()}\")"
      ],
      "metadata": {
        "colab": {
          "base_uri": "https://localhost:8080/"
        },
        "id": "a2QJ27KRi0xp",
        "outputId": "fdf3ca30-efb3-4cae-c427-1ad18ab662a1"
      },
      "execution_count": 21,
      "outputs": [
        {
          "output_type": "stream",
          "name": "stdout",
          "text": [
            "Total price for Laptop: $1600\n"
          ]
        }
      ]
    },
    {
      "cell_type": "code",
      "source": [
        "# Create a class Animal with an abstract method sound(). Create two derived classes Cow and Sheep that\n",
        "#implement the sound() method.\n",
        "from abc import ABC, abstractmethod\n",
        "\n",
        "# Abstract base class\n",
        "class Animal(ABC):\n",
        "    @abstractmethod\n",
        "    def sound(self):\n",
        "        pass\n",
        "\n",
        "# Derived class Cow\n",
        "class Cow(Animal):\n",
        "    def sound(self):\n",
        "        return \"Moo\"\n",
        "\n",
        "# Derived class Sheep\n",
        "class Sheep(Animal):\n",
        "    def sound(self):\n",
        "        return \"Baa\"\n",
        "\n",
        "# Example usage\n",
        "cow = Cow()\n",
        "sheep = Sheep()\n",
        "\n",
        "print(f\"Cow says: {cow.sound()}\")\n",
        "print(f\"Sheep says: {sheep.sound()}\")"
      ],
      "metadata": {
        "colab": {
          "base_uri": "https://localhost:8080/"
        },
        "id": "xiBfyEsJjBvX",
        "outputId": "e0154188-5b7b-4474-c758-de238bc1c7ed"
      },
      "execution_count": 22,
      "outputs": [
        {
          "output_type": "stream",
          "name": "stdout",
          "text": [
            "Cow says: Moo\n",
            "Sheep says: Baa\n"
          ]
        }
      ]
    },
    {
      "cell_type": "code",
      "source": [
        "#Create a class Book with attributes title, author, and year_published. Add a method get_book_info() that\n",
        "#returns a formatted string with the book's details.\n",
        "class Book:\n",
        "    def __init__(self, title, author, year_published):\n",
        "        self.title = title\n",
        "        self.author = author\n",
        "        self.year_published = year_published\n",
        "\n",
        "    # Method to return formatted book information\n",
        "    def get_book_info(self):\n",
        "        return f\"'{self.title}' by {self.author}, published in {self.year_published}\"\n",
        "\n",
        "# Example usage\n",
        "book1 = Book(\"1984\", \"George Orwell\", 1949)\n",
        "print(book1.get_book_info())\n",
        "\n"
      ],
      "metadata": {
        "colab": {
          "base_uri": "https://localhost:8080/"
        },
        "id": "bnO5cyhpjOlW",
        "outputId": "7bf7aee7-f2c6-4cb7-e171-17496988c66d"
      },
      "execution_count": 23,
      "outputs": [
        {
          "output_type": "stream",
          "name": "stdout",
          "text": [
            "'1984' by George Orwell, published in 1949\n"
          ]
        }
      ]
    },
    {
      "cell_type": "code",
      "source": [
        "#Create a class House with attributes address and price. Create a derived class Mansion that adds an\n",
        "#attribute number_of_rooms.\n",
        "# Base class\n",
        "class House:\n",
        "    def __init__(self, address, price):\n",
        "        self.address = address\n",
        "        self.price = price\n",
        "\n",
        "    def get_info(self):\n",
        "        return f\"Address: {self.address}, Price: ${self.price}\"\n",
        "\n",
        "# Derived class\n",
        "class Mansion(House):\n",
        "    def __init__(self, address, price, number_of_rooms):\n",
        "        # Call the base class constructor\n",
        "        super().__init__(address, price)\n",
        "        self.number_of_rooms = number_of_rooms\n",
        "\n",
        "    def get_info(self):\n",
        "        base_info = super().get_info()\n",
        "        return f\"{base_info}, Rooms: {self.number_of_rooms}\"\n",
        "\n",
        "# Example usage\n",
        "mansion1 = Mansion(\"123 Luxury Ave\", 2500000, 12)\n",
        "print(mansion1.get_info())"
      ],
      "metadata": {
        "colab": {
          "base_uri": "https://localhost:8080/"
        },
        "id": "TieN7jSvjaX9",
        "outputId": "d692e8a4-a885-4880-80f0-e0f5e64fe06f"
      },
      "execution_count": 24,
      "outputs": [
        {
          "output_type": "stream",
          "name": "stdout",
          "text": [
            "Address: 123 Luxury Ave, Price: $2500000, Rooms: 12\n"
          ]
        }
      ]
    }
  ]
}